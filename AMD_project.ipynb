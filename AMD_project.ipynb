{
  "cells": [
    {
      "cell_type": "markdown",
      "metadata": {
        "id": "view-in-github",
        "colab_type": "text"
      },
      "source": [
        "<a href=\"https://colab.research.google.com/github/Sabaudian/AMD_Market_Basket_Analysis/blob/main/AMD_project.ipynb\" target=\"_parent\"><img src=\"https://colab.research.google.com/assets/colab-badge.svg\" alt=\"Open In Colab\"/></a>"
      ]
    },
    {
      "cell_type": "markdown",
      "metadata": {
        "id": "RJyHqJ_zy39-"
      },
      "source": [
        "# Algorithm for Massive Datasets Project\n",
        "\n",
        "## Project 2: Market-basket analysis\n",
        "\n",
        "The task is to implement from scratch a system finding frequent itemsets (aka market-basket analysis), considering each movie as a basket and the actors as items.\n"
      ]
    },
    {
      "cell_type": "markdown",
      "metadata": {
        "id": "FjdORj7Yfe6K"
      },
      "source": [
        "### Import"
      ]
    },
    {
      "cell_type": "code",
      "source": [
        "# Installing libraries\n",
        "!pip install -q ipython-autotime\n",
        "\n",
        "%load_ext autotime"
      ],
      "metadata": {
        "id": "fBtk4aulGKOy",
        "colab": {
          "base_uri": "https://localhost:8080/"
        },
        "outputId": "2dbfbc4e-3925-4366-9e97-87fd74d3b028"
      },
      "execution_count": 1,
      "outputs": [
        {
          "output_type": "stream",
          "name": "stdout",
          "text": [
            "time: 354 µs (started: 2024-09-03 13:19:47 +00:00)\n"
          ]
        }
      ]
    },
    {
      "cell_type": "code",
      "execution_count": 33,
      "metadata": {
        "id": "DlEmbQycMEGa",
        "colab": {
          "base_uri": "https://localhost:8080/"
        },
        "outputId": "28569c03-81ca-42f1-9f22-c4efc185157f"
      },
      "outputs": [
        {
          "output_type": "stream",
          "name": "stdout",
          "text": [
            "time: 1.28 ms (started: 2024-09-03 13:43:40 +00:00)\n"
          ]
        }
      ],
      "source": [
        "# Import\n",
        "import os\n",
        "import csv\n",
        "import time\n",
        "import zipfile\n",
        "\n",
        "import numpy as np\n",
        "import pandas as pd\n",
        "import matplotlib.pyplot as plt\n",
        "\n",
        "from google.colab import files\n",
        "from itertools import combinations\n",
        "from collections import defaultdict, Counter\n",
        "\n",
        "import warnings\n",
        "warnings.filterwarnings(\"ignore\")\n"
      ]
    },
    {
      "cell_type": "code",
      "source": [
        "# Constants\n",
        "\n",
        "# PATHS\n",
        "DATA_PATH = \"/content/dataset\"                                # Path to dataset folder\n",
        "ACTORS_ZIP_PATH = os.path.join(DATA_PATH, \"actors.csv.zip\")   # Path to zip file\n",
        "ACTORS_CSV_PATH = os.path.join(DATA_PATH, \"actors.csv\")       # Path to csv file\n",
        "\n",
        "# ALGORITHM RELATED\n",
        "DATA_FRACTION = 0.1                                # Data fraction to be sampled\n",
        "SUPPORT_THRESHOLD = 10                             # Support threshold\n",
        "BUCKET_NUMBER = 50123                              # Number of buckets\n",
        "CONFIDENCE_THRESHOLD = 0.75                        # Confidence threshold\n",
        "APRIORI = \"A-PRIORI\"                               # A-priori string name\n",
        "PCY = \"PCY\"                                        # PCY string name\n",
        "SAMPLE_LIST = [100000, 200000, 300000, 600000]     # Sample list\n"
      ],
      "metadata": {
        "id": "CchKLUkXfDai",
        "colab": {
          "base_uri": "https://localhost:8080/"
        },
        "outputId": "420b13c3-c4f0-4e6e-f1dd-e26fb89ffddf"
      },
      "execution_count": 3,
      "outputs": [
        {
          "output_type": "stream",
          "name": "stdout",
          "text": [
            "time: 2.86 ms (started: 2024-09-03 13:19:48 +00:00)\n"
          ]
        }
      ]
    },
    {
      "cell_type": "markdown",
      "metadata": {
        "id": "C1_JvgQM_iqc"
      },
      "source": [
        "### Set-up Kaggle API and Download the dataset\n",
        "\n",
        "#### Download Kaggle API Credentials:\n",
        "1. Go to your [Kaggle account](https://www.kaggle.com/).\n",
        "2. In the \"API\" section, click on \"Create new API Token\".\n",
        "3. This will download a **kaggle.json** file to your computer.\n",
        "4. Procede with the execution of following code."
      ]
    },
    {
      "cell_type": "code",
      "execution_count": null,
      "metadata": {
        "id": "oKkuUXfq-LNA"
      },
      "outputs": [],
      "source": [
        "# Upload 'kaggle.json' file\n",
        "files.upload()\n"
      ]
    },
    {
      "cell_type": "code",
      "execution_count": 5,
      "metadata": {
        "id": "N1aH3UX94vU-",
        "colab": {
          "base_uri": "https://localhost:8080/"
        },
        "outputId": "181fc4b1-ed4c-45bc-e5f2-f10270ca19d2"
      },
      "outputs": [
        {
          "output_type": "stream",
          "name": "stdout",
          "text": [
            "-rw-r--r-- 1 root root 65 Sep  3 13:20 kaggle.json\n",
            "/content\n",
            "time: 1.83 s (started: 2024-09-03 13:20:21 +00:00)\n"
          ]
        }
      ],
      "source": [
        "# Set-up kaggle\n",
        "!ls -lha kaggle.json\n",
        "!pip install -q --upgrade --force-reinstall --no-deps kaggle\n",
        "!mkdir -p ~/.kaggle\n",
        "!cp kaggle.json ~/.kaggle/\n",
        "!pwd\n"
      ]
    },
    {
      "cell_type": "code",
      "execution_count": 6,
      "metadata": {
        "id": "FJEHBQ49-87S",
        "colab": {
          "base_uri": "https://localhost:8080/"
        },
        "outputId": "fa2eaf83-8269-4c7f-e793-1a18bbb85b08"
      },
      "outputs": [
        {
          "output_type": "stream",
          "name": "stdout",
          "text": [
            "kaggle.json\n",
            "time: 207 ms (started: 2024-09-03 13:20:23 +00:00)\n"
          ]
        }
      ],
      "source": [
        "# rw access\n",
        "!chmod 600 ~/.kaggle/kaggle.json\n",
        "!ls ~/.kaggle\n"
      ]
    },
    {
      "cell_type": "code",
      "execution_count": 7,
      "metadata": {
        "id": "PUmQRcAJIneY",
        "colab": {
          "base_uri": "https://localhost:8080/"
        },
        "outputId": "016338aa-35ae-4b39-a88e-beabab6caf2a"
      },
      "outputs": [
        {
          "output_type": "stream",
          "name": "stdout",
          "text": [
            "Next Page Token = CfDJ8F_DuqmsDTJPtLCFEKPd8dyoYj3iToALfmRUyZxK01FEMXaRRns4b1wW0H6edTEMF7Zpde55kdh66V6ynSaOSDw\n",
            "name                  size  creationDate         \n",
            "-------------------  -----  -------------------  \n",
            "actors.csv           186MB  2024-06-26 23:55:25  \n",
            "countries.csv         10MB  2024-06-26 23:55:22  \n",
            "crew.csv             154MB  2024-06-26 23:55:25  \n",
            "genres.csv            17MB  2024-06-26 23:55:22  \n",
            "languages.csv         27MB  2024-06-26 23:55:22  \n",
            "movies.csv           243MB  2024-06-26 23:55:26  \n",
            "posters.csv           90MB  2024-06-26 23:55:23  \n",
            "posters/1000001.jpg   31KB  2024-06-26 23:35:52  \n",
            "posters/1000002.jpg   43KB  2024-06-26 23:35:52  \n",
            "posters/1000003.jpg   50KB  2024-06-26 23:35:52  \n",
            "posters/1000004.jpg   26KB  2024-06-26 23:35:52  \n",
            "posters/1000005.jpg   17KB  2024-06-26 23:35:52  \n",
            "posters/1000006.jpg   54KB  2024-06-26 23:35:52  \n",
            "posters/1000007.jpg   21KB  2024-06-26 23:35:52  \n",
            "posters/1000008.jpg   29KB  2024-06-26 23:35:52  \n",
            "posters/1000009.jpg   12KB  2024-06-26 23:35:52  \n",
            "posters/1000010.jpg   37KB  2024-06-26 23:35:52  \n",
            "posters/1000011.jpg   48KB  2024-06-26 23:35:52  \n",
            "posters/1000012.jpg   13KB  2024-06-26 23:35:52  \n",
            "posters/1000013.jpg   19KB  2024-06-26 23:35:52  \n",
            "time: 811 ms (started: 2024-09-03 13:20:23 +00:00)\n"
          ]
        }
      ],
      "source": [
        "# List files in the dataset\n",
        "!kaggle datasets files gsimonx37/letterboxd\n"
      ]
    },
    {
      "cell_type": "code",
      "execution_count": 8,
      "metadata": {
        "id": "SP-HmRBj3hIl",
        "colab": {
          "base_uri": "https://localhost:8080/"
        },
        "outputId": "c27bbb8d-8414-482f-f825-ab0a2ecede92"
      },
      "outputs": [
        {
          "output_type": "stream",
          "name": "stdout",
          "text": [
            "Dataset URL: https://www.kaggle.com/datasets/gsimonx37/letterboxd\n",
            "License(s): GPL-3.0\n",
            "Downloading actors.csv.zip to /content/dataset\n",
            " 96% 73.0M/76.3M [00:01<00:00, 66.0MB/s]\n",
            "100% 76.3M/76.3M [00:01<00:00, 53.5MB/s]\n",
            "time: 3.34 s (started: 2024-09-03 13:20:24 +00:00)\n"
          ]
        }
      ],
      "source": [
        "# Create the dataset directory\n",
        "os.makedirs(name=DATA_PATH, exist_ok=True)\n",
        "\n",
        "# Download the dataset\n",
        "!kaggle datasets download -d gsimonx37/letterboxd -f actors.csv -p /content/dataset\n"
      ]
    },
    {
      "cell_type": "code",
      "execution_count": 9,
      "metadata": {
        "id": "J8-8RMyAHE8z",
        "colab": {
          "base_uri": "https://localhost:8080/"
        },
        "outputId": "c6ec2ad1-f14b-4bf8-aaeb-361387acb99d"
      },
      "outputs": [
        {
          "output_type": "stream",
          "name": "stdout",
          "text": [
            "time: 2.98 s (started: 2024-09-03 13:20:27 +00:00)\n"
          ]
        }
      ],
      "source": [
        "# Unzip the file\n",
        "if os.path.exists(path=ACTORS_ZIP_PATH):\n",
        "  # Unzip the file\n",
        "  with zipfile.ZipFile(file=ACTORS_ZIP_PATH, mode=\"r\") as actors_zip:\n",
        "    actors_zip.extractall(path=DATA_PATH)\n",
        "    actors_zip.close()\n",
        "\n",
        "  # Delete zip file\n",
        "  os.remove(path=ACTORS_ZIP_PATH)\n"
      ]
    },
    {
      "cell_type": "markdown",
      "metadata": {
        "id": "-Y5kMSKeUd2E"
      },
      "source": [
        "### Data Preparation"
      ]
    },
    {
      "cell_type": "code",
      "execution_count": 10,
      "metadata": {
        "id": "NVBbjVUmi9dm",
        "colab": {
          "base_uri": "https://localhost:8080/"
        },
        "outputId": "b63eedb9-94f3-4402-ff90-050e299cfebc"
      },
      "outputs": [
        {
          "output_type": "stream",
          "name": "stdout",
          "text": [
            "\n",
            "> ACTORS DATAFRAME: \n",
            "\n",
            "        id               name\n",
            "0  1000001      Margot Robbie\n",
            "1  1000001       Ryan Gosling\n",
            "2  1000001    America Ferrera\n",
            "3  1000001  Ariana Greenblatt\n",
            "4  1000001           Issa Rae\n",
            "\n",
            "> ACTORS DATAFRAME SHAPE: (5798450, 2)\n",
            "\n",
            "> COUNT OF UNIQUE NAMES: 1600662\n",
            "time: 7.7 s (started: 2024-09-03 13:21:13 +00:00)\n"
          ]
        }
      ],
      "source": [
        "# Load data\n",
        "actors_df = pd.read_csv(filepath_or_buffer=ACTORS_CSV_PATH, usecols=[\"id\", \"name\"])\n",
        "\n",
        "print(\"\\n> ACTORS DATAFRAME: \\n\")\n",
        "print(actors_df.head())\n",
        "print(f\"\\n> ACTORS DATAFRAME SHAPE: {actors_df.shape}\")\n",
        "\n",
        "count_unique_items = actors_df[\"name\"].nunique()\n",
        "print(f\"\\n> COUNT OF UNIQUE NAMES: {count_unique_items}\")\n"
      ]
    },
    {
      "cell_type": "code",
      "source": [
        "# Mappings of actor names to unique integer values.\n",
        "def mapping_actors_to_ids(dataframe: pd.DataFrame) -> tuple[dict[str, int], dict[int, str]]:\n",
        "  \"\"\"\n",
        "    Define two dictionaries to map string to unique integer id and back.\n",
        "\n",
        "    Args:\n",
        "      dataframe: the employed dataframe.\n",
        "\n",
        "    Returns:\n",
        "      string_to_int: a dictionary mapping string to integer value.\n",
        "      int_to_string: a dictionary mapping integer value back to string.\n",
        "  \"\"\"\n",
        "  unique_names = dataframe[\"name\"].unique()\n",
        "\n",
        "  # 'Encode' string to unique integer value\n",
        "  string_to_int = {name: id + 1 for id, name in enumerate(unique_names)}\n",
        "\n",
        "  # 'Decode' integer back to original string value\n",
        "  int_to_string = {id + 1: name for id, name in enumerate(unique_names)}\n",
        "\n",
        "  return string_to_int, int_to_string"
      ],
      "metadata": {
        "colab": {
          "base_uri": "https://localhost:8080/"
        },
        "id": "vLYoDlBY5kP1",
        "outputId": "ae9b179f-e4c0-4d45-fc2d-3e6f3cd30d44"
      },
      "execution_count": 11,
      "outputs": [
        {
          "output_type": "stream",
          "name": "stdout",
          "text": [
            "time: 1.47 ms (started: 2024-09-03 13:21:21 +00:00)\n"
          ]
        }
      ]
    },
    {
      "cell_type": "code",
      "source": [
        "# Mappings\n",
        "ACTOR_TO_ID, ID_TO_ACTOR = mapping_actors_to_ids(dataframe=actors_df)\n",
        "\n",
        "# Add the 'actor_id' column\n",
        "actors_df[\"actor_id\"] = actors_df[\"name\"].map(ACTOR_TO_ID)\n",
        "\n",
        "# Group up 'actor_id' by movie id\n",
        "basket_list = actors_df.groupby(\"id\")[\"actor_id\"].apply(set)\n",
        "\n",
        "# 'Basket-shape' dataset\n",
        "basket_df = basket_list.reset_index(name=\"basket\")\n",
        "print(f\"\\n> BASKET DATAFRAME: \\n\")\n",
        "print(basket_df.head())\n",
        "print(f\"\\n> BASKET DATAFRAME SHAPE: {basket_df.shape}\\n\")\n"
      ],
      "metadata": {
        "colab": {
          "base_uri": "https://localhost:8080/"
        },
        "id": "cehZbeNV5mqS",
        "outputId": "a6da58fd-333b-4f9c-849b-7e79a6bbfb00"
      },
      "execution_count": 42,
      "outputs": [
        {
          "output_type": "stream",
          "name": "stdout",
          "text": [
            "\n",
            "> BASKET DATAFRAME: \n",
            "\n",
            "        id                                             basket\n",
            "0  1000001  {1, 2, 3, 4, 5, 6, 7, 8, 9, 10, 11, 12, 13, 14...\n",
            "1  1000002  {168, 169, 170, 171, 172, 173, 174, 175, 176, ...\n",
            "2  1000003  {217, 218, 219, 220, 221, 222, 223, 224, 225, ...\n",
            "3  1000004  {256, 257, 258, 259, 260, 261, 262, 263, 264, ...\n",
            "4  1000005  {512, 513, 2, 514, 515, 516, 517, 518, 519, 32...\n",
            "\n",
            "> BASKET DATAFRAME SHAPE: (634302, 2)\n",
            "\n",
            "time: 26.2 s (started: 2024-09-03 14:17:50 +00:00)\n"
          ]
        }
      ]
    },
    {
      "cell_type": "code",
      "source": [
        "# Sampled dataset\n",
        "sampled_df = basket_df.sample(frac=DATA_FRACTION, random_state=42)\n",
        "\n",
        "print(\"\\n> SAMPLED DATAFRAME: \\n\")\n",
        "print(sampled_df.head())\n",
        "print(f\"\\n> SAMPLED DATAFRAME SHAPE: {sampled_df.shape}\\n\")\n"
      ],
      "metadata": {
        "colab": {
          "base_uri": "https://localhost:8080/"
        },
        "id": "CKhrtcCgIa8a",
        "outputId": "eda310eb-cdf1-44d8-a518-f610a977c8c2"
      },
      "execution_count": 43,
      "outputs": [
        {
          "output_type": "stream",
          "name": "stdout",
          "text": [
            "\n",
            "> SAMPLED DATAFRAME: \n",
            "\n",
            "             id                                             basket\n",
            "598830  1850862                                          {1548760}\n",
            "169131  1189772  {145504, 110530, 14981, 110535, 12072, 28459, ...\n",
            "127706  1139390                    {473627, 394275, 83388, 249581}\n",
            "487440  1645732                                             {5976}\n",
            "204842  1234913                            {878209, 77515, 296789}\n",
            "\n",
            "> SAMPLED DATAFRAME SHAPE: (63430, 2)\n",
            "\n",
            "time: 73.8 ms (started: 2024-09-03 14:20:43 +00:00)\n"
          ]
        }
      ]
    },
    {
      "cell_type": "markdown",
      "source": [
        "### Utils\n",
        "\n",
        "#### Functions used during algorithms implementation."
      ],
      "metadata": {
        "id": "HWU1pbpZealP"
      }
    },
    {
      "cell_type": "code",
      "source": [
        "# Keep only the frequent items\n",
        "def filter_frequent_items(candidates: dict, threshold: int) -> dict:\n",
        "  \"\"\"\n",
        "    Filter items based on the support threshold.\n",
        "\n",
        "    Args:\n",
        "      candidates: dictionary of candicate items.\n",
        "      threshold: support threshold.\n",
        "\n",
        "    Returns:\n",
        "      frequent_items_table: dictionary containing only the frequent items.\n",
        "  \"\"\"\n",
        "  frequent_items_table = {item: count for item, count in candidates.items() if count >= threshold}\n",
        "\n",
        "  return frequent_items_table\n"
      ],
      "metadata": {
        "id": "dpIfhVA4erwc",
        "colab": {
          "base_uri": "https://localhost:8080/"
        },
        "outputId": "9abf239c-6824-4039-d45d-f6c55cd01829"
      },
      "execution_count": 44,
      "outputs": [
        {
          "output_type": "stream",
          "name": "stdout",
          "text": [
            "time: 848 µs (started: 2024-09-03 14:20:47 +00:00)\n"
          ]
        }
      ]
    },
    {
      "cell_type": "code",
      "source": [
        "# Hash function used for PCY\n",
        "def pcy_hash(item_pair: tuple[int, int], bucket_number: int) -> int:\n",
        "  \"\"\"\n",
        "    Compute the hash value.\n",
        "\n",
        "    Args:\n",
        "      item_pair: a pair of items.\n",
        "      bucket_number: the number of buckets.\n",
        "\n",
        "    Returns:\n",
        "      hash_value: value computed by the hash function.\n",
        "  \"\"\"\n",
        "  item_a, item_b = item_pair\n",
        "  hash_value = (hash(item_a + item_b)) % bucket_number\n",
        "\n",
        "  return hash_value\n",
        "\n",
        "\n",
        "# Summarize the hash table as a bitmap\n",
        "def generate_bitmap(hash_table: dict[int, int], num_of_bucket: int, threshold: int) -> np.ndarray:\n",
        "  \"\"\"\n",
        "    The hash table is summarized as a bitmap, with one bit for each bucket.\n",
        "\n",
        "    Args:\n",
        "      hash_table: dictionary containing the frequency of each bucket.\n",
        "      num_of_bucket: the number of buckets.\n",
        "      threshold: support threshold.\n",
        "\n",
        "    Returns:\n",
        "      bitmap: array with a value of '1' if bucket is frequent, '0' otherwise.\n",
        "  \"\"\"\n",
        "  bitmap = np.zeros(num_of_bucket, dtype=int)\n",
        "\n",
        "  for key, value in hash_table.items():\n",
        "    if value >= threshold:\n",
        "      bitmap[key] = 1\n",
        "\n",
        "  return bitmap\n"
      ],
      "metadata": {
        "id": "zpXvl5IonoxN",
        "colab": {
          "base_uri": "https://localhost:8080/"
        },
        "outputId": "04b0693c-821c-40a6-fbb8-43de87843d70"
      },
      "execution_count": 45,
      "outputs": [
        {
          "output_type": "stream",
          "name": "stdout",
          "text": [
            "time: 843 µs (started: 2024-09-03 14:20:47 +00:00)\n"
          ]
        }
      ]
    },
    {
      "cell_type": "markdown",
      "metadata": {
        "id": "nZDNO-LszWko"
      },
      "source": [
        "### A-priori algorithm implementation"
      ]
    },
    {
      "cell_type": "code",
      "execution_count": 46,
      "metadata": {
        "id": "pSet98AHHrAh",
        "colab": {
          "base_uri": "https://localhost:8080/"
        },
        "outputId": "11f3caee-02b5-415d-e937-8da21c18e464"
      },
      "outputs": [
        {
          "output_type": "stream",
          "name": "stdout",
          "text": [
            "time: 888 µs (started: 2024-09-03 14:20:50 +00:00)\n"
          ]
        }
      ],
      "source": [
        "# A-priori algorithm: First pass implementation\n",
        "def apriori_first_pass(data: pd.Series, s:int) -> dict[int, int]:\n",
        "  \"\"\"\n",
        "    Perform the first pass of the A-priori algorithm.\n",
        "    Count the occurrences of each unique items in the dataset.\n",
        "\n",
        "    Args:\n",
        "      data: baskets under analysis.\n",
        "      s: support threshold.\n",
        "\n",
        "    Returns:\n",
        "      frequent_items: dictionary of frequent single items.\n",
        "  \"\"\"\n",
        "  candidate_items = defaultdict(int)\n",
        "\n",
        "  for basket in data:\n",
        "    # Count frequency of single items\n",
        "    for item in basket:\n",
        "      candidate_items[item] += 1\n",
        "\n",
        "  # Filter\n",
        "  frequent_items = filter_frequent_items(candidates=candidate_items, threshold=s)\n",
        "\n",
        "  return frequent_items\n"
      ]
    },
    {
      "cell_type": "code",
      "source": [
        "# A-priori algorithm: Second pass implementation\n",
        "def apriori_second_pass(data: pd.Series, frequent_items: dict[int, int], s:int) -> dict[tuple[int, int], int]:\n",
        "  \"\"\"\n",
        "  Perform the second pass of the A-priori algorithm.\n",
        "  Compute the frequency of pairs of items appearing together\n",
        "  in the same baskets.\n",
        "\n",
        "  Args:\n",
        "    data: baskets under analysis.\n",
        "    frequent_items: dictionary of frequent single items.\n",
        "    s: support threshold.\n",
        "\n",
        "  Returns:\n",
        "    frequent_pairs: dictionary of frequent pair items.\n",
        "  \"\"\"\n",
        "  candidate_pairs = defaultdict(int)\n",
        "\n",
        "  for basket in data:\n",
        "    # Get items only if they belogs to the frequent itemset\n",
        "    items = [item for item in basket if item in frequent_items]\n",
        "\n",
        "    # Generate pairs\n",
        "    for pair in combinations(items, 2):\n",
        "      candidate_pairs[pair] += 1\n",
        "\n",
        "  # Filter\n",
        "  frequent_pairs = filter_frequent_items(candidates=candidate_pairs, threshold=s)\n",
        "\n",
        "  return frequent_pairs\n"
      ],
      "metadata": {
        "id": "tKFnXd24SW_K",
        "colab": {
          "base_uri": "https://localhost:8080/"
        },
        "outputId": "a7471d1d-3a2e-4dff-a9dc-3bdba38a80d9"
      },
      "execution_count": 47,
      "outputs": [
        {
          "output_type": "stream",
          "name": "stdout",
          "text": [
            "time: 1.05 ms (started: 2024-09-03 14:20:52 +00:00)\n"
          ]
        }
      ]
    },
    {
      "cell_type": "code",
      "source": [
        "# Perform A-priori algorithm\n",
        "def apriori_algorithm(dataframe: pd.DataFrame, support: int) -> tuple[dict[int, int], dict[tuple[int, int], int]]:\n",
        "  \"\"\"\n",
        "  Perform the A-priori algorithm.\n",
        "\n",
        "  Args:\n",
        "    dataframe: the employed dataframe.\n",
        "    mapping: dictionary mapping string to unique integer id.\n",
        "    support: support threshold.\n",
        "\n",
        "  Returns:\n",
        "    frequent_singletons: dictionary of frequent single items.\n",
        "    frequent_pairs: dictionary of frequent pair items.\n",
        "  \"\"\"\n",
        "  # Baskets\n",
        "  baskets = dataframe[\"basket\"]\n",
        "\n",
        "  # First pass\n",
        "  frequent_singletons = apriori_first_pass(data=baskets, s=support)\n",
        "\n",
        "  # Second pass\n",
        "  frequent_pairs = apriori_second_pass(data=baskets, frequent_items=frequent_singletons, s=support)\n",
        "\n",
        "  return frequent_singletons, frequent_pairs\n"
      ],
      "metadata": {
        "id": "rslm9DcwbgtP",
        "colab": {
          "base_uri": "https://localhost:8080/"
        },
        "outputId": "77d86448-816e-4b56-9bd3-176c00a7fe0a"
      },
      "execution_count": 48,
      "outputs": [
        {
          "output_type": "stream",
          "name": "stdout",
          "text": [
            "time: 898 µs (started: 2024-09-03 14:20:55 +00:00)\n"
          ]
        }
      ]
    },
    {
      "cell_type": "code",
      "source": [
        "# Execution example\n",
        "apriori_frequent_items, apriori_frequent_pairs = apriori_algorithm(\n",
        "  dataframe=sampled_df,\n",
        "  support=SUPPORT_THRESHOLD\n",
        ")\n",
        "\n",
        "print(f\"\\n> APRIORI - FREQUENT SINGLE ITEMS - TOT: {len(apriori_frequent_items)}\\n\")\n",
        "\n",
        "# # Print the first 10 actor and its frequency\n",
        "# for actor_id, frequency in list(apriori_frequent_items.items())[:10]:\n",
        "#   singleton_actor = ID_TO_ACTOR[actor_id]\n",
        "#   print(f\"{singleton_actor} -> {frequency}\")\n",
        "\n",
        "# Frequency distribution for single items\n",
        "apriori_single_frequency_counter = Counter(apriori_frequent_items.values())\n",
        "\n",
        "for frequency, count in sorted(apriori_single_frequency_counter.items()):\n",
        "  print(f\"[{count}]\\t items with a frequency of [{frequency}]\")\n",
        "\n",
        "print(\"\\n\" + \"-\" * 65)\n",
        "\n",
        "print(f\"\\n> APRIORI - FREQUENT PAIRS - TOT: {len(apriori_frequent_pairs)}\\n\")\n",
        "\n",
        "# # Print the fist 10 pairs of actor and its frequency\n",
        "# for pair, frequency in list(apriori_frequent_pairs.items())[:10]:\n",
        "#   pair_actors = [ID_TO_ACTOR[id] for id in pair]\n",
        "#   print(f\"{pair_actors} -> {frequency}\")\n",
        "\n",
        "# Frequency distribution for pair items\n",
        "apriori_pair_frequency_counter = Counter(apriori_frequent_pairs.values())\n",
        "\n",
        "for frequency, count in sorted(apriori_pair_frequency_counter.items()):\n",
        "  print(f\"[{count}]\\t pairs with a frequency of [{frequency}]\")\n",
        "\n",
        "print(\"\\n\" + \"-\" * 65 + \"\\n\")\n"
      ],
      "metadata": {
        "id": "T6RC4z8O0YzW",
        "colab": {
          "base_uri": "https://localhost:8080/"
        },
        "outputId": "03445ae8-7ac8-4b35-c501-10bde6d229d5"
      },
      "execution_count": 50,
      "outputs": [
        {
          "output_type": "stream",
          "name": "stdout",
          "text": [
            "\n",
            "> APRIORI - FREQUENT SINGLE ITEMS - TOT: 4490\n",
            "\n",
            "[1013]\t items with a frequency of [10]\n",
            "[739]\t items with a frequency of [11]\n",
            "[591]\t items with a frequency of [12]\n",
            "[414]\t items with a frequency of [13]\n",
            "[336]\t items with a frequency of [14]\n",
            "[272]\t items with a frequency of [15]\n",
            "[215]\t items with a frequency of [16]\n",
            "[175]\t items with a frequency of [17]\n",
            "[139]\t items with a frequency of [18]\n",
            "[105]\t items with a frequency of [19]\n",
            "[90]\t items with a frequency of [20]\n",
            "[62]\t items with a frequency of [21]\n",
            "[59]\t items with a frequency of [22]\n",
            "[49]\t items with a frequency of [23]\n",
            "[41]\t items with a frequency of [24]\n",
            "[36]\t items with a frequency of [25]\n",
            "[33]\t items with a frequency of [26]\n",
            "[20]\t items with a frequency of [27]\n",
            "[18]\t items with a frequency of [28]\n",
            "[17]\t items with a frequency of [29]\n",
            "[12]\t items with a frequency of [30]\n",
            "[10]\t items with a frequency of [31]\n",
            "[7]\t items with a frequency of [32]\n",
            "[3]\t items with a frequency of [33]\n",
            "[3]\t items with a frequency of [34]\n",
            "[9]\t items with a frequency of [35]\n",
            "[3]\t items with a frequency of [36]\n",
            "[2]\t items with a frequency of [37]\n",
            "[1]\t items with a frequency of [38]\n",
            "[1]\t items with a frequency of [39]\n",
            "[2]\t items with a frequency of [40]\n",
            "[4]\t items with a frequency of [41]\n",
            "[1]\t items with a frequency of [43]\n",
            "[1]\t items with a frequency of [44]\n",
            "[1]\t items with a frequency of [45]\n",
            "[1]\t items with a frequency of [51]\n",
            "[1]\t items with a frequency of [52]\n",
            "[1]\t items with a frequency of [53]\n",
            "[1]\t items with a frequency of [54]\n",
            "[1]\t items with a frequency of [63]\n",
            "[1]\t items with a frequency of [109]\n",
            "\n",
            "-----------------------------------------------------------------\n",
            "\n",
            "> APRIORI - FREQUENT PAIRS - TOT: 75\n",
            "\n",
            "[32]\t pairs with a frequency of [10]\n",
            "[13]\t pairs with a frequency of [11]\n",
            "[6]\t pairs with a frequency of [12]\n",
            "[10]\t pairs with a frequency of [13]\n",
            "[4]\t pairs with a frequency of [14]\n",
            "[5]\t pairs with a frequency of [16]\n",
            "[4]\t pairs with a frequency of [17]\n",
            "[1]\t pairs with a frequency of [21]\n",
            "\n",
            "-----------------------------------------------------------------\n",
            "\n",
            "time: 991 ms (started: 2024-09-03 14:21:22 +00:00)\n"
          ]
        }
      ]
    },
    {
      "cell_type": "markdown",
      "source": [
        "### PCY algorithm Implemetnation\n"
      ],
      "metadata": {
        "id": "-rxwfTcHGY0p"
      }
    },
    {
      "cell_type": "code",
      "source": [
        "# PCY algorithm: First pass implementation\n",
        "def pcy_first_pass(data: pd.Series, num_of_bucket: int, s: int) -> tuple[dict[int, int], np.ndarray]:\n",
        "  \"\"\"\n",
        "    Perform the first pass of the PCY algorithm.\n",
        "\n",
        "    Args:\n",
        "      data: baskets under analysis.\n",
        "      num_of_bucket: number of buckets.\n",
        "      s: support threshold.\n",
        "\n",
        "    Returns:\n",
        "      frequent_items: dictionary of frequent single items.\n",
        "      bitmap: summary of the hash table as a bitmap.\n",
        "  \"\"\"\n",
        "  hash_table = defaultdict(int)\n",
        "  candidate_items = defaultdict(int)\n",
        "\n",
        "  # Count frequency of single items\n",
        "  for basket in data:\n",
        "    for item in basket:\n",
        "      candidate_items[item] += 1\n",
        "\n",
        "    # Hash the pairs and count bucket occurrences\n",
        "    for pair in combinations(basket, 2):\n",
        "      key = pcy_hash(item_pair=pair, bucket_number=num_of_bucket)\n",
        "      hash_table[key] += 1\n",
        "\n",
        "  # Filter\n",
        "  frequent_items = filter_frequent_items(candidates=candidate_items, threshold=s)\n",
        "  # Bitmap\n",
        "  bitmap = generate_bitmap(hash_table=hash_table, num_of_bucket=num_of_bucket, threshold=s)\n",
        "\n",
        "  return frequent_items, bitmap\n"
      ],
      "metadata": {
        "collapsed": true,
        "id": "D5WJcHABGcPY",
        "colab": {
          "base_uri": "https://localhost:8080/"
        },
        "outputId": "dde318f6-5461-4d5d-d5dc-86e22db1622d"
      },
      "execution_count": 27,
      "outputs": [
        {
          "output_type": "stream",
          "name": "stdout",
          "text": [
            "time: 952 µs (started: 2024-09-03 13:23:52 +00:00)\n"
          ]
        }
      ]
    },
    {
      "cell_type": "code",
      "source": [
        "# PCY algorithm: Second pass implementation\n",
        "def pcy_second_pass(data: pd.Series, frequent_items: dict[int, int], bitmap: np.ndarray, num_of_bucket: int, s: int) -> dict[tuple[int, int], int]:\n",
        "  \"\"\"\n",
        "    Second pass of the PCY algorithm.\n",
        "\n",
        "    Args:\n",
        "      data: baskets under analysis.\n",
        "      frequent_items: dictionary of frequent single items.\n",
        "      bitmap: summary of the hash table as a bitmap.\n",
        "      num_of_bucket: the number of buckets.\n",
        "      s: minimum support threshold.\n",
        "\n",
        "    Returns:\n",
        "      frequent_pairs: dictionary of frequent pair items.\n",
        "  \"\"\"\n",
        "  candidate_pairs = defaultdict(int)\n",
        "\n",
        "  for basket in data:\n",
        "    # Get item only if they belogs to the frequent itemset\n",
        "    items = [item for item in basket if item in frequent_items]\n",
        "\n",
        "    # Define pair and hash them into buckets\n",
        "    for pair in combinations(items, 2):\n",
        "      # Apply hash function\n",
        "      key = pcy_hash(item_pair=pair, bucket_number=num_of_bucket)\n",
        "      if bitmap[key] == 1:\n",
        "        candidate_pairs[pair] += 1\n",
        "\n",
        "  # Filter\n",
        "  frequent_pairs = filter_frequent_items(candidates=candidate_pairs, threshold=s)\n",
        "\n",
        "  return frequent_pairs\n"
      ],
      "metadata": {
        "id": "R_fHm3_XTJah",
        "colab": {
          "base_uri": "https://localhost:8080/"
        },
        "outputId": "5414480c-58e1-405d-c7c8-75224c39a13b"
      },
      "execution_count": 28,
      "outputs": [
        {
          "output_type": "stream",
          "name": "stdout",
          "text": [
            "time: 886 µs (started: 2024-09-03 13:23:52 +00:00)\n"
          ]
        }
      ]
    },
    {
      "cell_type": "code",
      "source": [
        "# PCY algorithm\n",
        "def pcy_algorithm(dataframe: pd.DataFrame, bucket_num: int, support: int) -> tuple[dict, dict]:\n",
        "  \"\"\"\n",
        "    PCY algorithm implementation.\n",
        "\n",
        "    Args:\n",
        "      dataframe: the employed dataframe.\n",
        "      bucket_num: the number of buckets.\n",
        "      support: support threshold.\n",
        "\n",
        "    Returns:\n",
        "      frequent_singletons: dictionary of frequent single items.\n",
        "      frequent_pairs: dictionary of frequent pair items.\n",
        "  \"\"\"\n",
        "  # Baskets\n",
        "  baskets = dataframe[\"basket\"]\n",
        "\n",
        "  # Perform the first pass\n",
        "  frequent_items, bitmap = pcy_first_pass(data=baskets, num_of_bucket=bucket_num, s=support)\n",
        "\n",
        "  # Perform the second pass\n",
        "  frequent_pairs = pcy_second_pass(data=baskets, frequent_items=frequent_items, bitmap=bitmap, num_of_bucket=bucket_num, s=support)\n",
        "\n",
        "  return frequent_items, frequent_pairs\n"
      ],
      "metadata": {
        "collapsed": true,
        "id": "P3wnTSpepjUu",
        "colab": {
          "base_uri": "https://localhost:8080/"
        },
        "outputId": "1758697d-e893-456e-dd7c-ec8e304cf2a3"
      },
      "execution_count": 29,
      "outputs": [
        {
          "output_type": "stream",
          "name": "stdout",
          "text": [
            "time: 462 µs (started: 2024-09-03 13:23:52 +00:00)\n"
          ]
        }
      ]
    },
    {
      "cell_type": "code",
      "source": [
        "# Execution example\n",
        "pcy_frequent_items, pcy_frequent_pairs = pcy_algorithm(\n",
        "  dataframe=sampled_df,\n",
        "  bucket_num=BUCKET_NUMBER,\n",
        "  support=SUPPORT_THRESHOLD\n",
        ")\n",
        "\n",
        "print(f\"\\n> PCY - FREQUENT SINGLE ITEMS - TOT: {len(pcy_frequent_items)}\\n\")\n",
        "\n",
        "# # Print the first 10 actor name and its frequency\n",
        "# for actor_id, frequency in list(pcy_frequent_items.items())[:10]:\n",
        "#   singleton_actor = ID_TO_ACTOR[actor_id]\n",
        "#   print(f\"{singleton_actor} -> {frequency}\")\n",
        "\n",
        "# Frequency distribution for single items\n",
        "pcy_single_frequency_counter = Counter(pcy_frequent_items.values())\n",
        "\n",
        "for frequency, count in sorted(pcy_single_frequency_counter.items()):\n",
        "  print(f\"[{count}]\\t items with a frequency of [{frequency}]\")\n",
        "\n",
        "print(\"\\n\" + \"-\" * 65)\n",
        "\n",
        "print(f\"\\n> PCY - FREQUENT PAIRS - TOT: {len(pcy_frequent_pairs)}\\n\")\n",
        "\n",
        "# # Print the first 10 pairs of actor name and its frequency\n",
        "# for pair, frequency in list(pcy_frequent_pairs.items())[:10]:\n",
        "#   pair_actors = [ID_TO_ACTOR[id] for id in pair]\n",
        "#   print(f\"{pair_actors} -> {frequency}\")\n",
        "\n",
        "# Frequency distribution for pair items\n",
        "pcy_pair_frequency_counter = Counter(pcy_frequent_pairs.values())\n",
        "\n",
        "for frequency, count in sorted(pcy_pair_frequency_counter.items()):\n",
        "  print(f\"[{count}]\\t pairs with a frequency of [{frequency}]\")\n",
        "\n",
        "print(\"\\n\" + \"-\" * 65 + \"\\n\")\n"
      ],
      "metadata": {
        "id": "8SYC4dM79xE-",
        "colab": {
          "base_uri": "https://localhost:8080/"
        },
        "outputId": "6aabb935-8410-4afc-cb19-4218f1e218ee",
        "collapsed": true
      },
      "execution_count": 51,
      "outputs": [
        {
          "output_type": "stream",
          "name": "stdout",
          "text": [
            "\n",
            "> PCY - FREQUENT SINGLE ITEMS - TOT: 4490\n",
            "\n",
            "[1013]\t items with a frequency of [10]\n",
            "[739]\t items with a frequency of [11]\n",
            "[591]\t items with a frequency of [12]\n",
            "[414]\t items with a frequency of [13]\n",
            "[336]\t items with a frequency of [14]\n",
            "[272]\t items with a frequency of [15]\n",
            "[215]\t items with a frequency of [16]\n",
            "[175]\t items with a frequency of [17]\n",
            "[139]\t items with a frequency of [18]\n",
            "[105]\t items with a frequency of [19]\n",
            "[90]\t items with a frequency of [20]\n",
            "[62]\t items with a frequency of [21]\n",
            "[59]\t items with a frequency of [22]\n",
            "[49]\t items with a frequency of [23]\n",
            "[41]\t items with a frequency of [24]\n",
            "[36]\t items with a frequency of [25]\n",
            "[33]\t items with a frequency of [26]\n",
            "[20]\t items with a frequency of [27]\n",
            "[18]\t items with a frequency of [28]\n",
            "[17]\t items with a frequency of [29]\n",
            "[12]\t items with a frequency of [30]\n",
            "[10]\t items with a frequency of [31]\n",
            "[7]\t items with a frequency of [32]\n",
            "[3]\t items with a frequency of [33]\n",
            "[3]\t items with a frequency of [34]\n",
            "[9]\t items with a frequency of [35]\n",
            "[3]\t items with a frequency of [36]\n",
            "[2]\t items with a frequency of [37]\n",
            "[1]\t items with a frequency of [38]\n",
            "[1]\t items with a frequency of [39]\n",
            "[2]\t items with a frequency of [40]\n",
            "[4]\t items with a frequency of [41]\n",
            "[1]\t items with a frequency of [43]\n",
            "[1]\t items with a frequency of [44]\n",
            "[1]\t items with a frequency of [45]\n",
            "[1]\t items with a frequency of [51]\n",
            "[1]\t items with a frequency of [52]\n",
            "[1]\t items with a frequency of [53]\n",
            "[1]\t items with a frequency of [54]\n",
            "[1]\t items with a frequency of [63]\n",
            "[1]\t items with a frequency of [109]\n",
            "\n",
            "-----------------------------------------------------------------\n",
            "\n",
            "> PCY - FREQUENT PAIRS - TOT: 75\n",
            "\n",
            "[32]\t pairs with a frequency of [10]\n",
            "[13]\t pairs with a frequency of [11]\n",
            "[6]\t pairs with a frequency of [12]\n",
            "[10]\t pairs with a frequency of [13]\n",
            "[4]\t pairs with a frequency of [14]\n",
            "[5]\t pairs with a frequency of [16]\n",
            "[4]\t pairs with a frequency of [17]\n",
            "[1]\t pairs with a frequency of [21]\n",
            "\n",
            "-----------------------------------------------------------------\n",
            "\n",
            "time: 5.58 s (started: 2024-09-03 14:21:34 +00:00)\n"
          ]
        }
      ]
    },
    {
      "cell_type": "markdown",
      "source": [
        "###  Association Rules"
      ],
      "metadata": {
        "id": "J6xD_Glrhk9j"
      }
    },
    {
      "cell_type": "code",
      "source": [
        "# Compute confidence and interest\n",
        "def compute_association_rules(df: pd.DataFrame, singletons: dict[int, int], pairs: dict[tuple[int, int], int], confidence: float) -> pd.DataFrame:\n",
        "  \"\"\"\n",
        "    Compute association rules of pairs -> confidence and interest\n",
        "\n",
        "    Args:\n",
        "      df: the employed dataframe.\n",
        "      singletons: dictionary of frequent single items.\n",
        "      pairs: dictionary of frequent pair items.\n",
        "      confidence: confidence threshold.\n",
        "\n",
        "    Returns:\n",
        "      rules_df: dataframe containing the association rules.\n",
        "  \"\"\"\n",
        "  # Total number of transactions\n",
        "  transactions = len(df)\n",
        "\n",
        "  association_rules = []\n",
        "\n",
        "  # Compute Association rules\n",
        "  for (actor_1, actor_2), support_pair in pairs.items():\n",
        "\n",
        "    actor_1_support = singletons[actor_1] # support actor 1\n",
        "    actor_2_support = singletons[actor_2] # support actor 2\n",
        "\n",
        "    # Confidence\n",
        "    confidence_1_to_2 = support_pair / actor_1_support\n",
        "    confidence_2_to_1 = support_pair / actor_2_support\n",
        "\n",
        "    # Interest\n",
        "    interest_1_to_2 = abs(confidence_1_to_2 - (actor_2_support / transactions))\n",
        "    interest_2_to_1 = abs(confidence_2_to_1 - (actor_1_support / transactions))\n",
        "\n",
        "    if confidence_1_to_2 >= confidence:\n",
        "      # Rules actor_1 -> actor_2\n",
        "      association_rules.append({\n",
        "        \"rule\": f\"{ID_TO_ACTOR[actor_1]} -> {ID_TO_ACTOR[actor_2]}\",\n",
        "        \"support\": f\"{support_pair}\",\n",
        "        \"confidence\": f\"{confidence_1_to_2:.3f}\",\n",
        "        \"interest\": f\"{interest_1_to_2:.3f}\"\n",
        "      })\n",
        "\n",
        "    if confidence_2_to_1 >= confidence:\n",
        "      # Rules actor_2 -> actor_1\n",
        "      association_rules.append({\n",
        "        \"rule\": f\"{ID_TO_ACTOR[actor_2]} -> {ID_TO_ACTOR[actor_1]}\",\n",
        "        \"support\": f\"{support_pair}\",\n",
        "        \"confidence\": f\"{confidence_2_to_1:.3f}\",\n",
        "        \"interest\": f\"{interest_2_to_1:.3f}\"\n",
        "      })\n",
        "\n",
        "  # Return as DataFrame\n",
        "  rules_df = pd.DataFrame(association_rules)\n",
        "\n",
        "  return rules_df\n",
        "\n",
        "\n",
        "# Check if the two algorithms provide the same solution\n",
        "# print(f\"> The results of A-priori and PCY are the same? {apriori_frequent_pairs == pcy_frequent_pairs}\")\n",
        "\n",
        "# Execution example for A-priori\n",
        "apriori_association_rules_df = compute_association_rules(\n",
        "  df = sampled_df,\n",
        "  singletons=apriori_frequent_items,\n",
        "  pairs=apriori_frequent_pairs,\n",
        "  confidence=CONFIDENCE_THRESHOLD\n",
        ")\n",
        "\n",
        "print(\"\\n> A-PRIORI - ASSOCIATION RULES:\\n\")\n",
        "display(apriori_association_rules_df)\n"
      ],
      "metadata": {
        "colab": {
          "base_uri": "https://localhost:8080/",
          "height": 487
        },
        "id": "psGJMxuch5as",
        "outputId": "59fcf943-d58f-47b1-932d-c54a303bb20f"
      },
      "execution_count": 53,
      "outputs": [
        {
          "output_type": "stream",
          "name": "stdout",
          "text": [
            "\n",
            "> A-PRIORI - ASSOCIATION RULES:\n",
            "\n"
          ]
        },
        {
          "output_type": "display_data",
          "data": {
            "text/plain": [
              "                                         rule support confidence interest\n",
              "0   Marguerite Clayton -> Gilbert M. Anderson      14      0.933    0.933\n",
              "1                    Moe Howard -> Larry Fine      21      0.955    0.954\n",
              "2                    Larry Fine -> Moe Howard      21      0.955    0.954\n",
              "3                Gene Simmons -> Paul Stanley      12      0.857    0.857\n",
              "4                Paul Stanley -> Gene Simmons      12      0.857    0.857\n",
              "..                                        ...     ...        ...      ...\n",
              "80                  Brian May -> Roger Taylor      13      0.765    0.764\n",
              "81                  Roger Taylor -> Brian May      13      0.812    0.812\n",
              "82                John Deacon -> Roger Taylor      10      1.000    1.000\n",
              "83         Lee Willard -> Gilbert M. Anderson      12      0.750    0.749\n",
              "84                      Sid Jordan -> Tom Mix      10      1.000    1.000\n",
              "\n",
              "[85 rows x 4 columns]"
            ],
            "text/html": [
              "\n",
              "  <div id=\"df-98ce9837-f5c6-4959-8a77-f0656806b6a4\" class=\"colab-df-container\">\n",
              "    <div>\n",
              "<style scoped>\n",
              "    .dataframe tbody tr th:only-of-type {\n",
              "        vertical-align: middle;\n",
              "    }\n",
              "\n",
              "    .dataframe tbody tr th {\n",
              "        vertical-align: top;\n",
              "    }\n",
              "\n",
              "    .dataframe thead th {\n",
              "        text-align: right;\n",
              "    }\n",
              "</style>\n",
              "<table border=\"1\" class=\"dataframe\">\n",
              "  <thead>\n",
              "    <tr style=\"text-align: right;\">\n",
              "      <th></th>\n",
              "      <th>rule</th>\n",
              "      <th>support</th>\n",
              "      <th>confidence</th>\n",
              "      <th>interest</th>\n",
              "    </tr>\n",
              "  </thead>\n",
              "  <tbody>\n",
              "    <tr>\n",
              "      <th>0</th>\n",
              "      <td>Marguerite Clayton -&gt; Gilbert M. Anderson</td>\n",
              "      <td>14</td>\n",
              "      <td>0.933</td>\n",
              "      <td>0.933</td>\n",
              "    </tr>\n",
              "    <tr>\n",
              "      <th>1</th>\n",
              "      <td>Moe Howard -&gt; Larry Fine</td>\n",
              "      <td>21</td>\n",
              "      <td>0.955</td>\n",
              "      <td>0.954</td>\n",
              "    </tr>\n",
              "    <tr>\n",
              "      <th>2</th>\n",
              "      <td>Larry Fine -&gt; Moe Howard</td>\n",
              "      <td>21</td>\n",
              "      <td>0.955</td>\n",
              "      <td>0.954</td>\n",
              "    </tr>\n",
              "    <tr>\n",
              "      <th>3</th>\n",
              "      <td>Gene Simmons -&gt; Paul Stanley</td>\n",
              "      <td>12</td>\n",
              "      <td>0.857</td>\n",
              "      <td>0.857</td>\n",
              "    </tr>\n",
              "    <tr>\n",
              "      <th>4</th>\n",
              "      <td>Paul Stanley -&gt; Gene Simmons</td>\n",
              "      <td>12</td>\n",
              "      <td>0.857</td>\n",
              "      <td>0.857</td>\n",
              "    </tr>\n",
              "    <tr>\n",
              "      <th>...</th>\n",
              "      <td>...</td>\n",
              "      <td>...</td>\n",
              "      <td>...</td>\n",
              "      <td>...</td>\n",
              "    </tr>\n",
              "    <tr>\n",
              "      <th>80</th>\n",
              "      <td>Brian May -&gt; Roger Taylor</td>\n",
              "      <td>13</td>\n",
              "      <td>0.765</td>\n",
              "      <td>0.764</td>\n",
              "    </tr>\n",
              "    <tr>\n",
              "      <th>81</th>\n",
              "      <td>Roger Taylor -&gt; Brian May</td>\n",
              "      <td>13</td>\n",
              "      <td>0.812</td>\n",
              "      <td>0.812</td>\n",
              "    </tr>\n",
              "    <tr>\n",
              "      <th>82</th>\n",
              "      <td>John Deacon -&gt; Roger Taylor</td>\n",
              "      <td>10</td>\n",
              "      <td>1.000</td>\n",
              "      <td>1.000</td>\n",
              "    </tr>\n",
              "    <tr>\n",
              "      <th>83</th>\n",
              "      <td>Lee Willard -&gt; Gilbert M. Anderson</td>\n",
              "      <td>12</td>\n",
              "      <td>0.750</td>\n",
              "      <td>0.749</td>\n",
              "    </tr>\n",
              "    <tr>\n",
              "      <th>84</th>\n",
              "      <td>Sid Jordan -&gt; Tom Mix</td>\n",
              "      <td>10</td>\n",
              "      <td>1.000</td>\n",
              "      <td>1.000</td>\n",
              "    </tr>\n",
              "  </tbody>\n",
              "</table>\n",
              "<p>85 rows × 4 columns</p>\n",
              "</div>\n",
              "    <div class=\"colab-df-buttons\">\n",
              "\n",
              "  <div class=\"colab-df-container\">\n",
              "    <button class=\"colab-df-convert\" onclick=\"convertToInteractive('df-98ce9837-f5c6-4959-8a77-f0656806b6a4')\"\n",
              "            title=\"Convert this dataframe to an interactive table.\"\n",
              "            style=\"display:none;\">\n",
              "\n",
              "  <svg xmlns=\"http://www.w3.org/2000/svg\" height=\"24px\" viewBox=\"0 -960 960 960\">\n",
              "    <path d=\"M120-120v-720h720v720H120Zm60-500h600v-160H180v160Zm220 220h160v-160H400v160Zm0 220h160v-160H400v160ZM180-400h160v-160H180v160Zm440 0h160v-160H620v160ZM180-180h160v-160H180v160Zm440 0h160v-160H620v160Z\"/>\n",
              "  </svg>\n",
              "    </button>\n",
              "\n",
              "  <style>\n",
              "    .colab-df-container {\n",
              "      display:flex;\n",
              "      gap: 12px;\n",
              "    }\n",
              "\n",
              "    .colab-df-convert {\n",
              "      background-color: #E8F0FE;\n",
              "      border: none;\n",
              "      border-radius: 50%;\n",
              "      cursor: pointer;\n",
              "      display: none;\n",
              "      fill: #1967D2;\n",
              "      height: 32px;\n",
              "      padding: 0 0 0 0;\n",
              "      width: 32px;\n",
              "    }\n",
              "\n",
              "    .colab-df-convert:hover {\n",
              "      background-color: #E2EBFA;\n",
              "      box-shadow: 0px 1px 2px rgba(60, 64, 67, 0.3), 0px 1px 3px 1px rgba(60, 64, 67, 0.15);\n",
              "      fill: #174EA6;\n",
              "    }\n",
              "\n",
              "    .colab-df-buttons div {\n",
              "      margin-bottom: 4px;\n",
              "    }\n",
              "\n",
              "    [theme=dark] .colab-df-convert {\n",
              "      background-color: #3B4455;\n",
              "      fill: #D2E3FC;\n",
              "    }\n",
              "\n",
              "    [theme=dark] .colab-df-convert:hover {\n",
              "      background-color: #434B5C;\n",
              "      box-shadow: 0px 1px 3px 1px rgba(0, 0, 0, 0.15);\n",
              "      filter: drop-shadow(0px 1px 2px rgba(0, 0, 0, 0.3));\n",
              "      fill: #FFFFFF;\n",
              "    }\n",
              "  </style>\n",
              "\n",
              "    <script>\n",
              "      const buttonEl =\n",
              "        document.querySelector('#df-98ce9837-f5c6-4959-8a77-f0656806b6a4 button.colab-df-convert');\n",
              "      buttonEl.style.display =\n",
              "        google.colab.kernel.accessAllowed ? 'block' : 'none';\n",
              "\n",
              "      async function convertToInteractive(key) {\n",
              "        const element = document.querySelector('#df-98ce9837-f5c6-4959-8a77-f0656806b6a4');\n",
              "        const dataTable =\n",
              "          await google.colab.kernel.invokeFunction('convertToInteractive',\n",
              "                                                    [key], {});\n",
              "        if (!dataTable) return;\n",
              "\n",
              "        const docLinkHtml = 'Like what you see? Visit the ' +\n",
              "          '<a target=\"_blank\" href=https://colab.research.google.com/notebooks/data_table.ipynb>data table notebook</a>'\n",
              "          + ' to learn more about interactive tables.';\n",
              "        element.innerHTML = '';\n",
              "        dataTable['output_type'] = 'display_data';\n",
              "        await google.colab.output.renderOutput(dataTable, element);\n",
              "        const docLink = document.createElement('div');\n",
              "        docLink.innerHTML = docLinkHtml;\n",
              "        element.appendChild(docLink);\n",
              "      }\n",
              "    </script>\n",
              "  </div>\n",
              "\n",
              "\n",
              "<div id=\"df-29ed9b5f-6316-42b1-9286-3ba680a5edef\">\n",
              "  <button class=\"colab-df-quickchart\" onclick=\"quickchart('df-29ed9b5f-6316-42b1-9286-3ba680a5edef')\"\n",
              "            title=\"Suggest charts\"\n",
              "            style=\"display:none;\">\n",
              "\n",
              "<svg xmlns=\"http://www.w3.org/2000/svg\" height=\"24px\"viewBox=\"0 0 24 24\"\n",
              "     width=\"24px\">\n",
              "    <g>\n",
              "        <path d=\"M19 3H5c-1.1 0-2 .9-2 2v14c0 1.1.9 2 2 2h14c1.1 0 2-.9 2-2V5c0-1.1-.9-2-2-2zM9 17H7v-7h2v7zm4 0h-2V7h2v10zm4 0h-2v-4h2v4z\"/>\n",
              "    </g>\n",
              "</svg>\n",
              "  </button>\n",
              "\n",
              "<style>\n",
              "  .colab-df-quickchart {\n",
              "      --bg-color: #E8F0FE;\n",
              "      --fill-color: #1967D2;\n",
              "      --hover-bg-color: #E2EBFA;\n",
              "      --hover-fill-color: #174EA6;\n",
              "      --disabled-fill-color: #AAA;\n",
              "      --disabled-bg-color: #DDD;\n",
              "  }\n",
              "\n",
              "  [theme=dark] .colab-df-quickchart {\n",
              "      --bg-color: #3B4455;\n",
              "      --fill-color: #D2E3FC;\n",
              "      --hover-bg-color: #434B5C;\n",
              "      --hover-fill-color: #FFFFFF;\n",
              "      --disabled-bg-color: #3B4455;\n",
              "      --disabled-fill-color: #666;\n",
              "  }\n",
              "\n",
              "  .colab-df-quickchart {\n",
              "    background-color: var(--bg-color);\n",
              "    border: none;\n",
              "    border-radius: 50%;\n",
              "    cursor: pointer;\n",
              "    display: none;\n",
              "    fill: var(--fill-color);\n",
              "    height: 32px;\n",
              "    padding: 0;\n",
              "    width: 32px;\n",
              "  }\n",
              "\n",
              "  .colab-df-quickchart:hover {\n",
              "    background-color: var(--hover-bg-color);\n",
              "    box-shadow: 0 1px 2px rgba(60, 64, 67, 0.3), 0 1px 3px 1px rgba(60, 64, 67, 0.15);\n",
              "    fill: var(--button-hover-fill-color);\n",
              "  }\n",
              "\n",
              "  .colab-df-quickchart-complete:disabled,\n",
              "  .colab-df-quickchart-complete:disabled:hover {\n",
              "    background-color: var(--disabled-bg-color);\n",
              "    fill: var(--disabled-fill-color);\n",
              "    box-shadow: none;\n",
              "  }\n",
              "\n",
              "  .colab-df-spinner {\n",
              "    border: 2px solid var(--fill-color);\n",
              "    border-color: transparent;\n",
              "    border-bottom-color: var(--fill-color);\n",
              "    animation:\n",
              "      spin 1s steps(1) infinite;\n",
              "  }\n",
              "\n",
              "  @keyframes spin {\n",
              "    0% {\n",
              "      border-color: transparent;\n",
              "      border-bottom-color: var(--fill-color);\n",
              "      border-left-color: var(--fill-color);\n",
              "    }\n",
              "    20% {\n",
              "      border-color: transparent;\n",
              "      border-left-color: var(--fill-color);\n",
              "      border-top-color: var(--fill-color);\n",
              "    }\n",
              "    30% {\n",
              "      border-color: transparent;\n",
              "      border-left-color: var(--fill-color);\n",
              "      border-top-color: var(--fill-color);\n",
              "      border-right-color: var(--fill-color);\n",
              "    }\n",
              "    40% {\n",
              "      border-color: transparent;\n",
              "      border-right-color: var(--fill-color);\n",
              "      border-top-color: var(--fill-color);\n",
              "    }\n",
              "    60% {\n",
              "      border-color: transparent;\n",
              "      border-right-color: var(--fill-color);\n",
              "    }\n",
              "    80% {\n",
              "      border-color: transparent;\n",
              "      border-right-color: var(--fill-color);\n",
              "      border-bottom-color: var(--fill-color);\n",
              "    }\n",
              "    90% {\n",
              "      border-color: transparent;\n",
              "      border-bottom-color: var(--fill-color);\n",
              "    }\n",
              "  }\n",
              "</style>\n",
              "\n",
              "  <script>\n",
              "    async function quickchart(key) {\n",
              "      const quickchartButtonEl =\n",
              "        document.querySelector('#' + key + ' button');\n",
              "      quickchartButtonEl.disabled = true;  // To prevent multiple clicks.\n",
              "      quickchartButtonEl.classList.add('colab-df-spinner');\n",
              "      try {\n",
              "        const charts = await google.colab.kernel.invokeFunction(\n",
              "            'suggestCharts', [key], {});\n",
              "      } catch (error) {\n",
              "        console.error('Error during call to suggestCharts:', error);\n",
              "      }\n",
              "      quickchartButtonEl.classList.remove('colab-df-spinner');\n",
              "      quickchartButtonEl.classList.add('colab-df-quickchart-complete');\n",
              "    }\n",
              "    (() => {\n",
              "      let quickchartButtonEl =\n",
              "        document.querySelector('#df-29ed9b5f-6316-42b1-9286-3ba680a5edef button');\n",
              "      quickchartButtonEl.style.display =\n",
              "        google.colab.kernel.accessAllowed ? 'block' : 'none';\n",
              "    })();\n",
              "  </script>\n",
              "</div>\n",
              "\n",
              "  <div id=\"id_aa816b08-5d5b-4fda-88a6-2c3998da3cc4\">\n",
              "    <style>\n",
              "      .colab-df-generate {\n",
              "        background-color: #E8F0FE;\n",
              "        border: none;\n",
              "        border-radius: 50%;\n",
              "        cursor: pointer;\n",
              "        display: none;\n",
              "        fill: #1967D2;\n",
              "        height: 32px;\n",
              "        padding: 0 0 0 0;\n",
              "        width: 32px;\n",
              "      }\n",
              "\n",
              "      .colab-df-generate:hover {\n",
              "        background-color: #E2EBFA;\n",
              "        box-shadow: 0px 1px 2px rgba(60, 64, 67, 0.3), 0px 1px 3px 1px rgba(60, 64, 67, 0.15);\n",
              "        fill: #174EA6;\n",
              "      }\n",
              "\n",
              "      [theme=dark] .colab-df-generate {\n",
              "        background-color: #3B4455;\n",
              "        fill: #D2E3FC;\n",
              "      }\n",
              "\n",
              "      [theme=dark] .colab-df-generate:hover {\n",
              "        background-color: #434B5C;\n",
              "        box-shadow: 0px 1px 3px 1px rgba(0, 0, 0, 0.15);\n",
              "        filter: drop-shadow(0px 1px 2px rgba(0, 0, 0, 0.3));\n",
              "        fill: #FFFFFF;\n",
              "      }\n",
              "    </style>\n",
              "    <button class=\"colab-df-generate\" onclick=\"generateWithVariable('apriori_association_rules_df')\"\n",
              "            title=\"Generate code using this dataframe.\"\n",
              "            style=\"display:none;\">\n",
              "\n",
              "  <svg xmlns=\"http://www.w3.org/2000/svg\" height=\"24px\"viewBox=\"0 0 24 24\"\n",
              "       width=\"24px\">\n",
              "    <path d=\"M7,19H8.4L18.45,9,17,7.55,7,17.6ZM5,21V16.75L18.45,3.32a2,2,0,0,1,2.83,0l1.4,1.43a1.91,1.91,0,0,1,.58,1.4,1.91,1.91,0,0,1-.58,1.4L9.25,21ZM18.45,9,17,7.55Zm-12,3A5.31,5.31,0,0,0,4.9,8.1,5.31,5.31,0,0,0,1,6.5,5.31,5.31,0,0,0,4.9,4.9,5.31,5.31,0,0,0,6.5,1,5.31,5.31,0,0,0,8.1,4.9,5.31,5.31,0,0,0,12,6.5,5.46,5.46,0,0,0,6.5,12Z\"/>\n",
              "  </svg>\n",
              "    </button>\n",
              "    <script>\n",
              "      (() => {\n",
              "      const buttonEl =\n",
              "        document.querySelector('#id_aa816b08-5d5b-4fda-88a6-2c3998da3cc4 button.colab-df-generate');\n",
              "      buttonEl.style.display =\n",
              "        google.colab.kernel.accessAllowed ? 'block' : 'none';\n",
              "\n",
              "      buttonEl.onclick = () => {\n",
              "        google.colab.notebook.generateWithVariable('apriori_association_rules_df');\n",
              "      }\n",
              "      })();\n",
              "    </script>\n",
              "  </div>\n",
              "\n",
              "    </div>\n",
              "  </div>\n"
            ],
            "application/vnd.google.colaboratory.intrinsic+json": {
              "type": "dataframe",
              "variable_name": "apriori_association_rules_df",
              "summary": "{\n  \"name\": \"apriori_association_rules_df\",\n  \"rows\": 85,\n  \"fields\": [\n    {\n      \"column\": \"rule\",\n      \"properties\": {\n        \"dtype\": \"string\",\n        \"num_unique_values\": 85,\n        \"samples\": [\n          \"Franco Franchi -> Ciccio Ingrassia\",\n          \"Marguerite Clayton -> Gilbert M. Anderson\",\n          \"Kim Nam-joon -> Jeon Jung-kook\"\n        ],\n        \"semantic_type\": \"\",\n        \"description\": \"\"\n      }\n    },\n    {\n      \"column\": \"support\",\n      \"properties\": {\n        \"dtype\": \"category\",\n        \"num_unique_values\": 7,\n        \"samples\": [\n          \"14\",\n          \"21\",\n          \"13\"\n        ],\n        \"semantic_type\": \"\",\n        \"description\": \"\"\n      }\n    },\n    {\n      \"column\": \"confidence\",\n      \"properties\": {\n        \"dtype\": \"category\",\n        \"num_unique_values\": 16,\n        \"samples\": [\n          \"0.933\",\n          \"0.955\",\n          \"0.786\"\n        ],\n        \"semantic_type\": \"\",\n        \"description\": \"\"\n      }\n    },\n    {\n      \"column\": \"interest\",\n      \"properties\": {\n        \"dtype\": \"category\",\n        \"num_unique_values\": 17,\n        \"samples\": [\n          \"0.933\",\n          \"0.954\",\n          \"0.786\"\n        ],\n        \"semantic_type\": \"\",\n        \"description\": \"\"\n      }\n    }\n  ]\n}"
            }
          },
          "metadata": {}
        },
        {
          "output_type": "stream",
          "name": "stdout",
          "text": [
            "time: 22.2 ms (started: 2024-09-03 14:41:46 +00:00)\n"
          ]
        }
      ]
    },
    {
      "cell_type": "markdown",
      "source": [
        "### Algorithms Scalability"
      ],
      "metadata": {
        "id": "dIndMwxpNegV"
      }
    },
    {
      "cell_type": "code",
      "source": [
        "# Measure the time taken by the algorithm\n",
        "def measure_time(algorithm: str, data: pd.DataFrame, s: int, num_of_bucket: int = 0) -> float:\n",
        "  \"\"\"\n",
        "  Measures the time taken by the algorithms.\n",
        "\n",
        "  Args:\n",
        "    algorithm: name of the algorithm.\n",
        "    data: input dataframe.\n",
        "    s: support threshold.\n",
        "    num_of_bucket: the number of buckets (used only by PCY).\n",
        "\n",
        "  Returns:\n",
        "    time_taken: the time taken by the specified algorithm.\n",
        "  \"\"\"\n",
        "  start_time = time.time()\n",
        "\n",
        "  if algorithm == APRIORI:\n",
        "    apriori_algorithm(dataframe=data, support=s)\n",
        "\n",
        "  elif algorithm == PCY:\n",
        "    pcy_algorithm(dataframe=data, bucket_num=num_of_bucket, support=s)\n",
        "\n",
        "  end_time = time.time()\n",
        "  time_taken = end_time - start_time\n",
        "\n",
        "  return time_taken\n",
        "\n",
        "\n",
        "# Measure the scalability of the algorithms\n",
        "def measure_scalability(algorithm: str, data: pd.DataFrame, samples: list[int], support: int, bucket_num: int = 0) -> list[float]:\n",
        "  \"\"\"\n",
        "  Measures the scalability of the algorithms by running it on\n",
        "  different sizes of sampled data.\n",
        "\n",
        "  Args:\n",
        "    algorithm: name of the algorithm.\n",
        "    data: input dataframe.\n",
        "    samples: list of sample sizes to measure scalability.\n",
        "    bucket_num: the number of buckets (used only by PCY).\n",
        "    support: support threshold.\n",
        "\n",
        "  Returns:\n",
        "    times: list of time taken by the specified algorithm for each sample.\n",
        "  \"\"\"\n",
        "  times = []\n",
        "\n",
        "  if algorithm == APRIORI:\n",
        "    print(\"A-priori algorithm: \\n\")\n",
        "  elif algorithm == PCY:\n",
        "    print(\"PCY algorithm: \\n\")\n",
        "\n",
        "  for num_samples in samples:\n",
        "    # Sample the dataset\n",
        "    df = data.sample(n=num_samples, random_state=1)\n",
        "\n",
        "    # Measure the time taken\n",
        "    time_taken = measure_time(\n",
        "      algorithm=algorithm,\n",
        "      data=df,\n",
        "      s=support,\n",
        "      num_of_bucket=bucket_num\n",
        "    )\n",
        "    times.append(time_taken)\n",
        "\n",
        "    if time_taken / 60 >= 1:\n",
        "      print(f\"> Processed [{num_samples}] samples in [{time_taken:.2f}] seconds - [{time_taken/60:.2f}] minutes\")\n",
        "    else:\n",
        "      print(f\"> Processed [{num_samples}] samples in [{time_taken:.2f}] seconds\")\n",
        "\n",
        "  print(\"\\n\" + \"-\" * 65 + \"\\n\")\n",
        "\n",
        "  return times\n",
        "\n",
        "\n",
        "# A-priori\n",
        "apriori_times = measure_scalability(\n",
        "  algorithm=APRIORI,\n",
        "  data=basket_df,\n",
        "  samples=SAMPLE_LIST,\n",
        "  support=SUPPORT_THRESHOLD\n",
        ")\n",
        "# PCY\n",
        "pcy_times = measure_scalability(\n",
        "  algorithm=PCY,\n",
        "  data=basket_df,\n",
        "  samples=SAMPLE_LIST,\n",
        "  support=SUPPORT_THRESHOLD,\n",
        "  bucket_num=BUCKET_NUMBER\n",
        ")\n"
      ],
      "metadata": {
        "colab": {
          "base_uri": "https://localhost:8080/"
        },
        "id": "bVMol_WQNd1I",
        "outputId": "51055c74-f54f-458f-a206-8ff189de5b75"
      },
      "execution_count": 52,
      "outputs": [
        {
          "output_type": "stream",
          "name": "stdout",
          "text": [
            "A-priori algorithm: \n",
            "\n",
            "> Processed [100000] samples in [1.17] seconds\n",
            "> Processed [200000] samples in [3.79] seconds\n",
            "> Processed [300000] samples in [8.46] seconds\n",
            "> Processed [600000] samples in [23.28] seconds\n",
            "\n",
            "-----------------------------------------------------------------\n",
            "\n",
            "PCY algorithm: \n",
            "\n",
            "> Processed [100000] samples in [6.77] seconds\n",
            "> Processed [200000] samples in [16.28] seconds\n",
            "> Processed [300000] samples in [28.48] seconds\n",
            "> Processed [600000] samples in [67.49] seconds - [1.12] minutes\n",
            "\n",
            "-----------------------------------------------------------------\n",
            "\n",
            "time: 2min 36s (started: 2024-09-03 14:38:21 +00:00)\n"
          ]
        }
      ]
    },
    {
      "cell_type": "code",
      "source": [
        "# Plot the time taken by the algorithms\n",
        "def plot_results(samples: list[int], apriori_times: list[float], pcy_times: list[float]) -> None:\n",
        "  \"\"\"\n",
        "  Plots the results.\n",
        "\n",
        "  Args:\n",
        "    samples: list of sample sizes.\n",
        "    apriori_times: time taken by the A-priori algorithm.\n",
        "    pcy_times: time taken by the PCY algorithm.\n",
        "\n",
        "  Returns: None\n",
        "  \"\"\"\n",
        "  fig, ax1 = plt.subplots(figsize=(10, 6))\n",
        "  plt.style.use(\"ggplot\")\n",
        "\n",
        "  # Plotting results for A-priori algorithm\n",
        "  ax1.plot(samples, apriori_times, marker=\"o\", color=\"navy\", label=\"A-PRIORI\")\n",
        "\n",
        "  # Plotting results for PCY algorithm\n",
        "  ax1.plot(samples, pcy_times, marker=\"d\", color=\"darkgreen\", label=\"PCY\")\n",
        "\n",
        "  ax1.set_xlabel(\"Dataset Samples Size\", fontsize=14)\n",
        "  ax1.set_ylabel(\"Time (seconds)\", fontsize=14)\n",
        "  ax1.tick_params(axis=\"y\")\n",
        "\n",
        "  # Secondary y-axis for minutes\n",
        "  ax2 = ax1.twinx()\n",
        "  ax2.set_ylabel(\"Time (minutes)\", fontsize=14)\n",
        "  ax2.tick_params(axis=\"y\")\n",
        "  ax2.set_yticks(ax1.get_yticks())\n",
        "  ax2.set_ylim(ax1.get_ylim())\n",
        "  ax2.set_yticklabels([f\"{i/60:.1f}\" for i in ax1.get_yticks()])\n",
        "\n",
        "  plt.title(\"Time Taken by A-priori and PCY Algorithms vs. Dataset Size\", fontdict={\"fontsize\": 16})\n",
        "  ax1.legend(loc=\"best\")\n",
        "\n",
        "  plt.rc(\"axes\", axisbelow=True)\n",
        "  plt.grid()\n",
        "\n",
        "  plt.show()\n",
        "\n",
        "\n",
        "# Plot Results\n",
        "plot_results(samples=SAMPLE_LIST, apriori_times=apriori_times, pcy_times=pcy_times)\n"
      ],
      "metadata": {
        "colab": {
          "base_uri": "https://localhost:8080/",
          "height": 588
        },
        "id": "ws6tX2c5Z1CZ",
        "outputId": "a60ec6eb-0742-4be0-b231-b6d06a4cb468"
      },
      "execution_count": 54,
      "outputs": [
        {
          "output_type": "display_data",
          "data": {
            "text/plain": [
              "<Figure size 1000x600 with 2 Axes>"
            ],
            "image/png": "[encoded data removed]"
          },
          "metadata": {}
        },
        {
          "output_type": "stream",
          "name": "stdout",
          "text": [
            "time: 489 ms (started: 2024-09-03 14:41:55 +00:00)\n"
          ]
        }
      ]
    }
  ],
  "metadata": {
    "colab": {
      "provenance": [],
      "collapsed_sections": [
        "FjdORj7Yfe6K",
        "C1_JvgQM_iqc",
        "HWU1pbpZealP"
      ],
      "include_colab_link": true
    },
    "kernelspec": {
      "display_name": "Python 3",
      "name": "python3"
    },
    "language_info": {
      "name": "python"
    }
  },
  "nbformat": 4,
  "nbformat_minor": 0
}